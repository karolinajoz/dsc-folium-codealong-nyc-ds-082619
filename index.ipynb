{
 "cells": [
  {
   "cell_type": "markdown",
   "metadata": {},
   "source": [
    "# Folium - Codealong\n",
    "\n",
    "## Introduction \n",
    "\n",
    "In this codealong, we'll take a look at how to create an interactive map using the Folium package. From there, we'll return to APIs in the final lab for the day where you'll make an interactive map from your requests to the API!\n",
    "\n",
    "## Objectives\n",
    "\n",
    "You will be able to: \n",
    "* Create maps with Folium"
   ]
  },
  {
   "cell_type": "markdown",
   "metadata": {},
   "source": [
    "## Creating a Basemap\n",
    "\n",
    "Here we'll take a look at creating a basemap over the London region!"
   ]
  },
  {
   "cell_type": "code",
   "execution_count": 1,
   "metadata": {
    "scrolled": false
   },
   "outputs": [
    {
     "data": {
      "text/html": [
       "<div style=\"width:100%;\"><div style=\"position:relative;width:100%;height:0;padding-bottom:60%;\"><iframe src=\"data:text/html;charset=utf-8;base64,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\" style=\"position:absolute;width:100%;height:100%;left:0;top:0;border:none !important;\" allowfullscreen webkitallowfullscreen mozallowfullscreen></iframe></div></div>"
      ],
      "text/plain": [
       "<folium.folium.Map at 0x7f87c9494cf8>"
      ]
     },
     "execution_count": 1,
     "metadata": {},
     "output_type": "execute_result"
    }
   ],
   "source": [
    "import folium\n",
    "\n",
    "lat = 51.51\n",
    "long = -0.14\n",
    "\n",
    "#Create a map of the area\n",
    "base_map = folium.Map([lat, long], zoom_start=13)\n",
    "base_map"
   ]
  },
  {
   "cell_type": "markdown",
   "metadata": {},
   "source": [
    "## Adding Markers to the Map\n",
    "\n",
    "Great! Now let's take a look at adding little markers to our map!\n",
    "\n",
    "**Note:** you may have to zoom out to see all of the markers!"
   ]
  },
  {
   "cell_type": "code",
   "execution_count": 2,
   "metadata": {},
   "outputs": [
    {
     "data": {
      "text/html": [
       "<div style=\"width:100%;\"><div style=\"position:relative;width:100%;height:0;padding-bottom:60%;\"><iframe src=\"data:text/html;charset=utf-8;base64,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\" style=\"position:absolute;width:100%;height:100%;left:0;top:0;border:none !important;\" allowfullscreen webkitallowfullscreen mozallowfullscreen></iframe></div></div>"
      ],
      "text/plain": [
       "<folium.folium.Map at 0x7f87c9494cf8>"
      ]
     },
     "execution_count": 2,
     "metadata": {},
     "output_type": "execute_result"
    }
   ],
   "source": [
    "import numpy as np\n",
    "\n",
    "#Generate some random locations to add to our map\n",
    "x = [lat + np.random.uniform(-.1,.1) for i in range(20)]\n",
    "y = [long + np.random.uniform(-.1,.1) for i in range(20)]\n",
    "points = list(zip(x, y))\n",
    "for p in points:\n",
    "    lat = p[0]\n",
    "    long = p[1]\n",
    "    marker = folium.Marker(location=[lat, long])\n",
    "    marker.add_to(base_map)\n",
    "base_map"
   ]
  },
  {
   "cell_type": "markdown",
   "metadata": {},
   "source": [
    "## Adding Pop-up Boxes to Our Markers\n",
    "\n",
    "Often we may wish to not only place markers on the map, but to create interactive pop-ups which display information to that location. To do this, we can add a popup to our markers when adding them to the map! "
   ]
  },
  {
   "cell_type": "code",
   "execution_count": null,
   "metadata": {},
   "outputs": [],
   "source": [
    "for p in points:\n",
    "    lat = p[0]\n",
    "    long = p[1]\n",
    "    popup_text = \"Latitude: {}, Longitude: {}\".format(lat,long)\n",
    "    popup = folium.Popup(popup_text, parse_html=True)\n",
    "    marker = folium.Marker(location=[lat, long], popup=popup)\n",
    "    marker.add_to(base_map)\n",
    "base_map"
   ]
  },
  {
   "cell_type": "markdown",
   "metadata": {},
   "source": [
    "Now, if you click on the map markers, you should see a little information box pop up!\n",
    "\n",
    "## Summary \n",
    "\n",
    "In this codealong, we learned how to use Folium to create some cool interactive maps with only a few lines of python code! In the next lab, you'll synthesize your skills for the day together and create an interactive visualization map for data you retrieve from the Yelp API!"
   ]
  }
 ],
 "metadata": {
  "kernelspec": {
   "display_name": "Python 3",
   "language": "python",
   "name": "python3"
  },
  "language_info": {
   "codemirror_mode": {
    "name": "ipython",
    "version": 3
   },
   "file_extension": ".py",
   "mimetype": "text/x-python",
   "name": "python",
   "nbconvert_exporter": "python",
   "pygments_lexer": "ipython3",
   "version": "3.6.6"
  }
 },
 "nbformat": 4,
 "nbformat_minor": 2
}
